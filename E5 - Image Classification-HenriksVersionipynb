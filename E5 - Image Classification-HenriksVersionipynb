{
 "cells": [
  {
   "cell_type": "markdown",
   "id": "3c9c437e",
   "metadata": {},
   "source": [
    "## Exercise 5\n",
    "Vi ska ta fram ett neuralt nätverk som kan klassificera handskrivna siffror mellan 0-9.\n",
    "\n",
    "pip install tensorflow"
   ]
  },
  {
   "cell_type": "code",
   "execution_count": 5,
   "id": "6fd4bbd4",
   "metadata": {},
   "outputs": [
    {
     "name": "stdout",
     "output_type": "stream",
     "text": [
      "Vi har 60000 bilder i vårt träningsset och 10000 bilder i vårt testset.\n",
      "Varje bild är 28x28 pixlar.\n",
      "Varje bild har en etikett som syftar till vilken siffra mellan 0-9 som bilden visar.\n",
      "I bilden nedan ser ni ett exempel:\n"
     ]
    },
    {
     "data": {
      "image/png": "[encoded data removed]",
      "text/plain": [
       "<Figure size 432x288 with 1 Axes>"
      ]
     },
     "metadata": {
      "needs_background": "light"
     },
     "output_type": "display_data"
    }
   ],
   "source": [
    "from tensorflow.keras.datasets import mnist\n",
    "import numpy as np\n",
    "import matplotlib.pyplot as plt\n",
    "from keras.utils import to_categorical\n",
    "\n",
    "(x_train, y_train), (x_test, y_test) = mnist.load_data()\n",
    "\n",
    "print(f'Vi har {x_train.shape[0]} bilder i vårt träningsset och {x_test.shape[0]} bilder i vårt testset.')\n",
    "print(f'Varje bild är {x_train.shape[1]}x{x_train.shape[2]} pixlar.')\n",
    "print(f'Varje bild har en etikett som syftar till vilken siffra mellan {y_train.min()}-{y_train.max()} som bilden visar.')\n",
    "print('I bilden nedan ser ni ett exempel:')\n",
    "# y_train är etiketterna för varje bild\n",
    "label = y_train[5]\n",
    "# X_train är bilderna (bilderna representeras som 28x28 pixlar (matriser))\n",
    "pixels = x_train[5]\n",
    "# Plot\n",
    "plt.title(f'Bilden visar {label}')\n",
    "plt.imshow(pixels, cmap='gray')\n",
    "plt.show()"
   ]
  },
  {
   "cell_type": "code",
   "execution_count": 6,
   "id": "aba0fcb3",
   "metadata": {},
   "outputs": [
    {
     "name": "stdout",
     "output_type": "stream",
     "text": [
      "För att arbeta med classification, så måste vi göra om vårt target till en ny form - kategorisk.\n",
      "Detta innebär, att för varje bild så sätter vi ett värde på hur sannolikt det är att bilden visar den specifika siffran.\n",
      "Metodiken kallas \"One-hot-encoding\" och kan genomföras med funktionen keras.utils.to_categorical\n",
      "Detta innebär att:\n",
      "2 representeras som [0.0, 0.0, 1.0, 0.0, 0.0, 0.0, 0.0, 0.0, 0.0, 0.0]\n",
      "Nedan syns ett bildexempel:\n"
     ]
    },
    {
     "data": {
      "image/png": "[encoded data removed]",
      "text/plain": [
       "<Figure size 432x288 with 1 Axes>"
      ]
     },
     "metadata": {
      "needs_background": "light"
     },
     "output_type": "display_data"
    }
   ],
   "source": [
    "print('För att arbeta med classification, så måste vi göra om vårt target till en ny form - kategorisk.')\n",
    "print('Detta innebär, att för varje bild så sätter vi ett värde på hur sannolikt det är att bilden visar den specifika siffran.')\n",
    "print('Metodiken kallas \"One-hot-encoding\" och kan genomföras med funktionen keras.utils.to_categorical')\n",
    "print('Detta innebär att:')\n",
    "print(f'{label} representeras som {list(to_categorical(label, num_classes=10))}')\n",
    "print('Nedan syns ett bildexempel:')\n",
    "plt.title(f'{list(to_categorical(label, num_classes=10))}')\n",
    "plt.imshow(pixels, cmap='gray')\n",
    "plt.show()\n"
   ]
  },
  {
   "cell_type": "code",
   "execution_count": 7,
   "id": "6ad30e43",
   "metadata": {},
   "outputs": [],
   "source": [
    "y_train = to_categorical(y_train, num_classes=10)\n",
    "y_test = to_categorical(y_test, num_classes=10)"
   ]
  },
  {
   "cell_type": "markdown",
   "id": "2b0cbe22",
   "metadata": {},
   "source": [
    "## Neuralt Nätverk"
   ]
  },
  {
   "cell_type": "code",
   "execution_count": 9,
   "id": "7b400c7c",
   "metadata": {},
   "outputs": [
    {
     "name": "stdout",
     "output_type": "stream",
     "text": [
      "Epoch 1/10\n",
      "750/750 [==============================] - 2s 2ms/step - loss: 0.6877 - val_loss: 0.3926\n",
      "Epoch 2/10\n",
      "750/750 [==============================] - 2s 3ms/step - loss: 0.3727 - val_loss: 0.3288\n",
      "Epoch 3/10\n",
      "750/750 [==============================] - 2s 3ms/step - loss: 0.3312 - val_loss: 0.3177\n",
      "Epoch 4/10\n",
      "750/750 [==============================] - 2s 3ms/step - loss: 0.3038 - val_loss: 0.2890\n",
      "Epoch 5/10\n",
      "750/750 [==============================] - 2s 3ms/step - loss: 0.2987 - val_loss: 0.2907\n",
      "Epoch 6/10\n",
      "750/750 [==============================] - 2s 2ms/step - loss: 0.2982 - val_loss: 0.3011\n",
      "Epoch 7/10\n",
      "750/750 [==============================] - 2s 2ms/step - loss: 0.2832 - val_loss: 0.2599\n",
      "Epoch 8/10\n",
      "750/750 [==============================] - 2s 2ms/step - loss: 0.2652 - val_loss: 0.2623\n",
      "Epoch 9/10\n",
      "750/750 [==============================] - 2s 3ms/step - loss: 0.2598 - val_loss: 0.2437\n",
      "Epoch 10/10\n",
      "750/750 [==============================] - 2s 2ms/step - loss: 0.2524 - val_loss: 0.2400\n",
      "Epoch 1/10\n",
      "750/750 [==============================] - 14s 18ms/step - loss: 0.5355 - val_loss: 0.1373\n",
      "Epoch 2/10\n",
      "750/750 [==============================] - 14s 19ms/step - loss: 0.0854 - val_loss: 0.1082\n",
      "Epoch 3/10\n",
      "750/750 [==============================] - 14s 19ms/step - loss: 0.0526 - val_loss: 0.0898\n",
      "Epoch 4/10\n",
      "750/750 [==============================] - 14s 19ms/step - loss: 0.0366 - val_loss: 0.0900\n",
      "Epoch 5/10\n",
      "750/750 [==============================] - 14s 19ms/step - loss: 0.0346 - val_loss: 0.1066\n",
      "Epoch 6/10\n",
      "750/750 [==============================] - 15s 20ms/step - loss: 0.0272 - val_loss: 0.1283\n",
      "Epoch 7/10\n",
      "750/750 [==============================] - 15s 20ms/step - loss: 0.0307 - val_loss: 0.0966\n",
      "Epoch 8/10\n",
      "750/750 [==============================] - 15s 19ms/step - loss: 0.0199 - val_loss: 0.1192\n",
      "Epoch 9/10\n",
      "750/750 [==============================] - 15s 20ms/step - loss: 0.0208 - val_loss: 0.1222\n",
      "Epoch 10/10\n",
      "750/750 [==============================] - 15s 20ms/step - loss: 0.0226 - val_loss: 0.1160\n",
      "313/313 [==============================] - 0s 641us/step\n",
      "313/313 [==============================] - 2s 5ms/step\n"
     ]
    }
   ],
   "source": [
    "from keras.layers import Dense, Flatten, Conv2D, MaxPooling2D\n",
    "from keras.models import Sequential\n",
    "from keras.optimizers import Adam\n",
    "\n",
    "# Ett enkelt neuralt nätverk\n",
    "model = Sequential()\n",
    "model.add(Flatten(input_shape=(28,28))) #input layer\n",
    "model.add(Dense(87, activation='sigmoid')) #hidden\n",
    "model.add(Dense(10, activation='sigmoid')) #output\n",
    "model.compile(loss='categorical_crossentropy', optimizer='adam')\n",
    "\n",
    "model.fit(x_train, y_train, epochs=10, validation_split=0.2, batch_size=64)\n",
    "\n",
    "# Ett CNN\n",
    "model_cnn = Sequential()\n",
    "model_cnn.add(Conv2D(32, (3, 3), activation='relu', input_shape=(28, 28, 1)))\n",
    "model_cnn.add(MaxPooling2D((2,2)))\n",
    "model_cnn.add(Flatten())\n",
    "model_cnn.add(Dense(100, activation='relu', kernel_initializer='he_uniform'))\n",
    "model_cnn.add(Dense(10, activation='softmax'))\n",
    "\n",
    "model_cnn.compile(loss='categorical_crossentropy', optimizer='adam')\n",
    "\n",
    "model_cnn.fit(x_train, y_train, epochs=10, validation_split=0.2, batch_size=64)\n",
    "\n",
    "predictions = model.predict(x_test)\n",
    "predictions_cnn = model_cnn.predict(x_test)"
   ]
  },
  {
   "cell_type": "code",
   "execution_count": 10,
   "id": "17b1b816",
   "metadata": {},
   "outputs": [
    {
     "data": {
      "image/png": "[encoded data removed]",
      "text/plain": [
       "<Figure size 432x288 with 1 Axes>"
      ]
     },
     "metadata": {
      "needs_background": "light"
     },
     "output_type": "display_data"
    },
    {
     "name": "stdout",
     "output_type": "stream",
     "text": [
      "Och vår prediktion för denna bild var:\n",
      "NN: [0.0032583526, 0.0024589617, 0.015415598, 0.01813174, 0.6317167, 0.019138958, 0.014697591, 0.8440936, 0.28575426, 0.9938208]\n",
      "CNN: [4.026854e-24, 2.979863e-29, 1.7856668e-15, 1.0962589e-23, 3.763041e-08, 1.3525514e-18, 1.9092302e-33, 6.81666e-13, 3.10762e-16, 0.99999994]\n"
     ]
    }
   ],
   "source": [
    "plt.title(f'{y_test[9]}')\n",
    "plt.imshow(x_test[9], cmap='gray')\n",
    "plt.show()\n",
    "\n",
    "print(f'Och vår prediktion för denna bild var:')\n",
    "print('NN:', list(predictions[9]))\n",
    "print('CNN:', list(predictions_cnn[9]))"
   ]
  },
  {
   "cell_type": "code",
   "execution_count": 11,
   "id": "c1365159",
   "metadata": {},
   "outputs": [
    {
     "data": {
      "image/png": "[encoded data removed]",
      "text/plain": [
       "<Figure size 432x288 with 1 Axes>"
      ]
     },
     "metadata": {
      "needs_background": "light"
     },
     "output_type": "display_data"
    }
   ],
   "source": [
    "# Vi gör om våra sannolikhets-prediktioner och y_test till faktiska siffror och plottar vad vi tror\n",
    "y_test_final = np.argmax(y_test, axis=1)\n",
    "predictions_cnn_final = np.argmax(predictions_cnn, axis=1)\n",
    "predictions_final = np.argmax(predictions, axis=1)\n",
    "\n",
    "plt.title(f'Vår prediktion (NN) är: {predictions_final[9]}. Vår prediktion (CNN) är: {predictions_cnn_final[9]}. Utfall: {y_test_final[9]}')\n",
    "plt.imshow(x_test[9], cmap='gray')\n",
    "plt.show()\n"
   ]
  },
  {
   "cell_type": "code",
   "execution_count": 22,
   "id": "7f8461aa",
   "metadata": {},
   "outputs": [
    {
     "name": "stdout",
     "output_type": "stream",
     "text": [
      "NN\n",
      "Accuracy: 0.9197\n",
      " \n",
      "Recall (for each class): [0.96836735 0.98590308 0.89728682 0.88613861 0.93380855 0.87443946\n",
      " 0.96555324 0.92801556 0.87679671 0.87016848]\n",
      " \n",
      "Precision (for each class): [0.95955511 0.96967071 0.93819656 0.91233435 0.8868472  0.90382387\n",
      " 0.91584158 0.92263056 0.87950566 0.8986694 ]\n",
      " \n",
      "F1-score (for each class): [0.96394109 0.97771953 0.91728579 0.89904571 0.90972222 0.88888889\n",
      " 0.94004065 0.92531523 0.8781491  0.88418933]\n",
      " \n",
      "------------------------------\n",
      "CNN\n",
      "Accuracy: 0.9781\n",
      " \n",
      "Recall (for each class): [0.98571429 0.98237885 0.97577519 0.99306931 0.97657841 0.98430493\n",
      " 0.9822547  0.96595331 0.97535934 0.96035679]\n",
      " \n",
      "Precision (for each class): [0.99382716 0.98935226 0.97672163 0.95889101 0.9805726  0.98320269\n",
      " 0.99052632 0.97640118 0.96153846 0.97094188]\n",
      " \n",
      "F1-score (for each class): [0.9897541  0.98585323 0.97624818 0.97568093 0.97857143 0.9837535\n",
      " 0.98637317 0.97114914 0.96839959 0.96562033]\n",
      " \n",
      "------------------------------\n"
     ]
    }
   ],
   "source": [
    "from sklearn.metrics import accuracy_score, recall_score, precision_score, f1_score\n",
    "\n",
    "predictions_list = {'NN': predictions_final, 'CNN': predictions_cnn_final}\n",
    "\n",
    "for pred in predictions_list:\n",
    "    print(pred)\n",
    "    acc = accuracy_score(y_test_final, predictions_list[pred])\n",
    "    recall = recall_score(y_test_final, predictions_list[pred], average=None)\n",
    "    prec = precision_score(y_test_final, predictions_list[pred],average=None)\n",
    "    f1 = f1_score(y_test_final, predictions_list[pred], average=None)\n",
    "\n",
    "    print(f'Accuracy: {acc}')\n",
    "    print(' ')\n",
    "    print(f'Recall (for each class): {recall}')\n",
    "    print(' ')\n",
    "    print(f'Precision (for each class): {prec}')\n",
    "    print(' ')\n",
    "    print(f'F1-score (for each class): {f1}')\n",
    "    print(' ')\n",
    "    print('------------------------------')"
   ]
  },
  {
   "cell_type": "code",
   "execution_count": null,
   "id": "840fb961",
   "metadata": {},
   "outputs": [],
   "source": []
  }
 ],
 "metadata": {
  "kernelspec": {
   "display_name": "Python 3 (ipykernel)",
   "language": "python",
   "name": "python3"
  },
  "language_info": {
   "codemirror_mode": {
    "name": "ipython",
    "version": 3
   },
   "file_extension": ".py",
   "mimetype": "text/x-python",
   "name": "python",
   "nbconvert_exporter": "python",
   "pygments_lexer": "ipython3",
   "version": "3.8.11"
  }
 },
 "nbformat": 4,
 "nbformat_minor": 5
}
