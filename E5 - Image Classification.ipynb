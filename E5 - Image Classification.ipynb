{
 "cells": [
  {
   "cell_type": "markdown",
   "id": "3c9c437e",
   "metadata": {},
   "source": [
    "## Exercise 5\n",
    "Vi ska ta fram ett neuralt nätverk som kan klassificera handskrivna siffror mellan 0-9.\n",
    "\n",
    "### What to do?\n",
    "1. Använd och ladda in datasetet mnist (Modified National Institute of Standards and Technology) (DONE!)\n",
    "2. Gör om vårt target till kategorisk med hjälp av keras.utils.to_categorical (DONE!)\n",
    "3. Skapa ett enkelt neuralt nätverk med 1 hidden layer.\n",
    "4. Träna nätverket/modellen med träningsdata.\n",
    "5. Skapa predictions med testdata.\n",
    "6. Undersök hur våra predictions ser ut.\n",
    "7. Konvertera våra predictions och y_test till faktiska siffor med hjälp av np.argmax(preds, axis=1) och np.argmax(y_test, axis=1)\n",
    "8. Skapa mått på hur bra predictions är genom att jämföra y_test och preds\n",
    "\n",
    "### Kan behövas...\n",
    "pip install tensorflow"
   ]
  },
  {
   "cell_type": "code",
   "execution_count": 144,
   "id": "6fd4bbd4",
   "metadata": {},
   "outputs": [
    {
     "name": "stdout",
     "output_type": "stream",
     "text": [
      "Vi har 60000 bilder i vårt träningsset och 10000 bilder i vårt testset.\n",
      "Varje bild är 28x28 pixlar.\n",
      "Varje bild har en etikett som syftar till vilken siffra mellan 0-9 som bilden visar.\n",
      "I bilden nedan ser ni ett exempel:\n"
     ]
    },
    {
     "data": {
      "image/png": "[encoded data removed]",
      "text/plain": [
       "<Figure size 432x288 with 1 Axes>"
      ]
     },
     "metadata": {
      "needs_background": "light"
     },
     "output_type": "display_data"
    }
   ],
   "source": [
    "from tensorflow.keras.datasets import mnist\n",
    "import numpy as np\n",
    "import matplotlib.pyplot as plt\n",
    "from keras.utils import to_categorical\n",
    "\n",
    "(x_train, y_train), (x_test, y_test) = mnist.load_data()\n",
    "\n",
    "print(f'Vi har {x_train.shape[0]} bilder i vårt träningsset och {x_test.shape[0]} bilder i vårt testset.')\n",
    "print(f'Varje bild är {x_train.shape[1]}x{x_train.shape[2]} pixlar.')\n",
    "print(f'Varje bild har en etikett som syftar till vilken siffra mellan {y_train.min()}-{y_train.max()} som bilden visar.')\n",
    "print('I bilden nedan ser ni ett exempel:')\n",
    "# y_train är etiketterna för varje bild\n",
    "label = y_train[5]\n",
    "# X_train är bilderna (bilderna representeras som 28x28 pixlar (matriser))\n",
    "pixels = x_train[5]\n",
    "# Plot\n",
    "plt.title(f'Bilden visar {label}')\n",
    "plt.imshow(pixels, cmap='gray')\n",
    "plt.show()"
   ]
  },
  {
   "cell_type": "code",
   "execution_count": 145,
   "id": "aba0fcb3",
   "metadata": {},
   "outputs": [
    {
     "name": "stdout",
     "output_type": "stream",
     "text": [
      "För att arbeta med classification, så måste vi göra om vårt target till en ny form - kategorisk.\n",
      "Detta innebär, att för varje bild så sätter vi ett värde på hur sannolikt det är att bilden visar den specifika siffran.\n",
      "Metodiken kallas \"One-hot-encoding\" och kan genomföras med funktionen keras.utils.to_categorical\n",
      "Detta innebär att:\n",
      "5 representeras som [0.0, 0.0, 0.0, 0.0, 0.0, 1.0, 0.0, 0.0, 0.0, 0.0]\n",
      "Nedan syns ett bildexempel:\n"
     ]
    },
    {
     "data": {
      "image/png": "[encoded data removed]",
      "text/plain": [
       "<Figure size 432x288 with 1 Axes>"
      ]
     },
     "metadata": {
      "needs_background": "light"
     },
     "output_type": "display_data"
    }
   ],
   "source": [
    "print('För att arbeta med classification, så måste vi göra om vårt target till en ny form - kategorisk.')\n",
    "print('Detta innebär, att för varje bild så sätter vi ett värde på hur sannolikt det är att bilden visar den specifika siffran.')\n",
    "print('Metodiken kallas \"One-hot-encoding\" och kan genomföras med funktionen keras.utils.to_categorical')\n",
    "print('Detta innebär att:')\n",
    "print(f'{5} representeras som {list(to_categorical(5, num_classes=10))}')\n",
    "print('Nedan syns ett bildexempel:')\n",
    "plt.title(f'{list(to_categorical(label, num_classes=10))}')\n",
    "plt.imshow(pixels, cmap='gray')\n",
    "plt.show()\n"
   ]
  },
  {
   "cell_type": "code",
   "execution_count": 146,
   "id": "6ad30e43",
   "metadata": {},
   "outputs": [],
   "source": [
    "y_train = to_categorical(y_train, num_classes=10)\n",
    "y_test = to_categorical(y_test, num_classes=10)"
   ]
  },
  {
   "cell_type": "markdown",
   "id": "2b0cbe22",
   "metadata": {},
   "source": [
    "## Neuralt Nätverk"
   ]
  },
  {
   "cell_type": "code",
   "execution_count": 147,
   "id": "7b400c7c",
   "metadata": {},
   "outputs": [],
   "source": [
    "from keras.layers import Dense, Flatten\n",
    "from keras.models import Sequential\n",
    "\n",
    "# Ett enkelt neuralt nätverk\n",
    "model = Sequential()\n",
    "# ....\n"
   ]
  }
 ],
 "metadata": {
  "kernelspec": {
   "display_name": "Python 3 (ipykernel)",
   "language": "python",
   "name": "python3"
  },
  "language_info": {
   "codemirror_mode": {
    "name": "ipython",
    "version": 3
   },
   "file_extension": ".py",
   "mimetype": "text/x-python",
   "name": "python",
   "nbconvert_exporter": "python",
   "pygments_lexer": "ipython3",
   "version": "3.8.11"
  }
 },
 "nbformat": 4,
 "nbformat_minor": 5
}
